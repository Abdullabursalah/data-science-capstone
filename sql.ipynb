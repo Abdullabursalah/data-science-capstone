{
 "cells": [
  {
   "cell_type": "code",
   "execution_count": 1,
   "id": "f2749dd1-c3a2-40f1-a1ba-14b48e52d73f",
   "metadata": {},
   "outputs": [
    {
     "name": "stdout",
     "output_type": "stream",
     "text": [
      "Requirement already satisfied: ipython-sql in c:\\users\\admin\\appdata\\local\\programs\\python\\python312\\lib\\site-packages (0.5.0)\n",
      "Requirement already satisfied: prettytable in c:\\users\\admin\\appdata\\local\\programs\\python\\python312\\lib\\site-packages (from ipython-sql) (3.10.2)\n",
      "Requirement already satisfied: ipython in c:\\users\\admin\\appdata\\local\\programs\\python\\python312\\lib\\site-packages (from ipython-sql) (8.24.0)\n",
      "Requirement already satisfied: sqlalchemy>=2.0 in c:\\users\\admin\\appdata\\local\\programs\\python\\python312\\lib\\site-packages (from ipython-sql) (2.0.32)\n",
      "Requirement already satisfied: sqlparse in c:\\users\\admin\\appdata\\local\\programs\\python\\python312\\lib\\site-packages (from ipython-sql) (0.5.1)\n",
      "Requirement already satisfied: six in c:\\users\\admin\\appdata\\local\\programs\\python\\python312\\lib\\site-packages (from ipython-sql) (1.16.0)\n",
      "Requirement already satisfied: ipython-genutils in c:\\users\\admin\\appdata\\local\\programs\\python\\python312\\lib\\site-packages (from ipython-sql) (0.2.0)\n",
      "Requirement already satisfied: typing-extensions>=4.6.0 in c:\\users\\admin\\appdata\\local\\programs\\python\\python312\\lib\\site-packages (from sqlalchemy>=2.0->ipython-sql) (4.12.2)\n",
      "Requirement already satisfied: greenlet!=0.4.17 in c:\\users\\admin\\appdata\\local\\programs\\python\\python312\\lib\\site-packages (from sqlalchemy>=2.0->ipython-sql) (3.0.3)\n",
      "Requirement already satisfied: decorator in c:\\users\\admin\\appdata\\local\\programs\\python\\python312\\lib\\site-packages (from ipython->ipython-sql) (5.1.1)\n",
      "Requirement already satisfied: jedi>=0.16 in c:\\users\\admin\\appdata\\local\\programs\\python\\python312\\lib\\site-packages (from ipython->ipython-sql) (0.19.1)\n",
      "Requirement already satisfied: matplotlib-inline in c:\\users\\admin\\appdata\\local\\programs\\python\\python312\\lib\\site-packages (from ipython->ipython-sql) (0.1.7)\n",
      "Requirement already satisfied: prompt-toolkit<3.1.0,>=3.0.41 in c:\\users\\admin\\appdata\\local\\programs\\python\\python312\\lib\\site-packages (from ipython->ipython-sql) (3.0.43)\n",
      "Requirement already satisfied: pygments>=2.4.0 in c:\\users\\admin\\appdata\\local\\programs\\python\\python312\\lib\\site-packages (from ipython->ipython-sql) (2.18.0)\n",
      "Requirement already satisfied: stack-data in c:\\users\\admin\\appdata\\local\\programs\\python\\python312\\lib\\site-packages (from ipython->ipython-sql) (0.6.3)\n",
      "Requirement already satisfied: traitlets>=5.13.0 in c:\\users\\admin\\appdata\\local\\programs\\python\\python312\\lib\\site-packages (from ipython->ipython-sql) (5.14.3)\n",
      "Requirement already satisfied: colorama in c:\\users\\admin\\appdata\\local\\programs\\python\\python312\\lib\\site-packages (from ipython->ipython-sql) (0.4.6)\n",
      "Requirement already satisfied: wcwidth in c:\\users\\admin\\appdata\\local\\programs\\python\\python312\\lib\\site-packages (from prettytable->ipython-sql) (0.2.13)\n",
      "Requirement already satisfied: parso<0.9.0,>=0.8.3 in c:\\users\\admin\\appdata\\local\\programs\\python\\python312\\lib\\site-packages (from jedi>=0.16->ipython->ipython-sql) (0.8.4)\n",
      "Requirement already satisfied: executing>=1.2.0 in c:\\users\\admin\\appdata\\local\\programs\\python\\python312\\lib\\site-packages (from stack-data->ipython->ipython-sql) (2.0.1)\n",
      "Requirement already satisfied: asttokens>=2.1.0 in c:\\users\\admin\\appdata\\local\\programs\\python\\python312\\lib\\site-packages (from stack-data->ipython->ipython-sql) (2.4.1)\n",
      "Requirement already satisfied: pure-eval in c:\\users\\admin\\appdata\\local\\programs\\python\\python312\\lib\\site-packages (from stack-data->ipython->ipython-sql) (0.2.2)\n",
      "Requirement already satisfied: ipython-sql in c:\\users\\admin\\appdata\\local\\programs\\python\\python312\\lib\\site-packages (0.5.0)\n",
      "Requirement already satisfied: prettytable in c:\\users\\admin\\appdata\\local\\programs\\python\\python312\\lib\\site-packages (3.10.2)\n",
      "Requirement already satisfied: ipython in c:\\users\\admin\\appdata\\local\\programs\\python\\python312\\lib\\site-packages (from ipython-sql) (8.24.0)\n",
      "Requirement already satisfied: sqlalchemy>=2.0 in c:\\users\\admin\\appdata\\local\\programs\\python\\python312\\lib\\site-packages (from ipython-sql) (2.0.32)\n",
      "Requirement already satisfied: sqlparse in c:\\users\\admin\\appdata\\local\\programs\\python\\python312\\lib\\site-packages (from ipython-sql) (0.5.1)\n",
      "Requirement already satisfied: six in c:\\users\\admin\\appdata\\local\\programs\\python\\python312\\lib\\site-packages (from ipython-sql) (1.16.0)\n",
      "Requirement already satisfied: ipython-genutils in c:\\users\\admin\\appdata\\local\\programs\\python\\python312\\lib\\site-packages (from ipython-sql) (0.2.0)\n",
      "Requirement already satisfied: wcwidth in c:\\users\\admin\\appdata\\local\\programs\\python\\python312\\lib\\site-packages (from prettytable) (0.2.13)\n",
      "Requirement already satisfied: typing-extensions>=4.6.0 in c:\\users\\admin\\appdata\\local\\programs\\python\\python312\\lib\\site-packages (from sqlalchemy>=2.0->ipython-sql) (4.12.2)\n",
      "Requirement already satisfied: greenlet!=0.4.17 in c:\\users\\admin\\appdata\\local\\programs\\python\\python312\\lib\\site-packages (from sqlalchemy>=2.0->ipython-sql) (3.0.3)\n",
      "Requirement already satisfied: decorator in c:\\users\\admin\\appdata\\local\\programs\\python\\python312\\lib\\site-packages (from ipython->ipython-sql) (5.1.1)\n",
      "Requirement already satisfied: jedi>=0.16 in c:\\users\\admin\\appdata\\local\\programs\\python\\python312\\lib\\site-packages (from ipython->ipython-sql) (0.19.1)\n",
      "Requirement already satisfied: matplotlib-inline in c:\\users\\admin\\appdata\\local\\programs\\python\\python312\\lib\\site-packages (from ipython->ipython-sql) (0.1.7)\n",
      "Requirement already satisfied: prompt-toolkit<3.1.0,>=3.0.41 in c:\\users\\admin\\appdata\\local\\programs\\python\\python312\\lib\\site-packages (from ipython->ipython-sql) (3.0.43)\n",
      "Requirement already satisfied: pygments>=2.4.0 in c:\\users\\admin\\appdata\\local\\programs\\python\\python312\\lib\\site-packages (from ipython->ipython-sql) (2.18.0)\n",
      "Requirement already satisfied: stack-data in c:\\users\\admin\\appdata\\local\\programs\\python\\python312\\lib\\site-packages (from ipython->ipython-sql) (0.6.3)\n",
      "Requirement already satisfied: traitlets>=5.13.0 in c:\\users\\admin\\appdata\\local\\programs\\python\\python312\\lib\\site-packages (from ipython->ipython-sql) (5.14.3)\n",
      "Requirement already satisfied: colorama in c:\\users\\admin\\appdata\\local\\programs\\python\\python312\\lib\\site-packages (from ipython->ipython-sql) (0.4.6)\n",
      "Requirement already satisfied: parso<0.9.0,>=0.8.3 in c:\\users\\admin\\appdata\\local\\programs\\python\\python312\\lib\\site-packages (from jedi>=0.16->ipython->ipython-sql) (0.8.4)\n",
      "Requirement already satisfied: executing>=1.2.0 in c:\\users\\admin\\appdata\\local\\programs\\python\\python312\\lib\\site-packages (from stack-data->ipython->ipython-sql) (2.0.1)\n",
      "Requirement already satisfied: asttokens>=2.1.0 in c:\\users\\admin\\appdata\\local\\programs\\python\\python312\\lib\\site-packages (from stack-data->ipython->ipython-sql) (2.4.1)\n",
      "Requirement already satisfied: pure-eval in c:\\users\\admin\\appdata\\local\\programs\\python\\python312\\lib\\site-packages (from stack-data->ipython->ipython-sql) (0.2.2)\n"
     ]
    }
   ],
   "source": [
    "!pip install ipython-sql\n",
    "!pip install ipython-sql prettytable"
   ]
  },
  {
   "cell_type": "code",
   "execution_count": 2,
   "id": "e1f6ea37-d3b1-479e-9c5f-e4ec0de46299",
   "metadata": {},
   "outputs": [],
   "source": [
    "import csv, sqlite3\n",
    "import prettytable\n",
    "prettytable.DEFAULT = 'DEFAULT'\n",
    "\n",
    "con = sqlite3.connect(\"my_data1.db\")\n",
    "cur = con.cursor()"
   ]
  },
  {
   "cell_type": "code",
   "execution_count": 4,
   "id": "b3e86ba3-be82-4fcd-a00c-b08a8c087a24",
   "metadata": {},
   "outputs": [],
   "source": [
    "%load_ext sql"
   ]
  },
  {
   "cell_type": "code",
   "execution_count": 5,
   "id": "88d54409-047a-485c-9ae1-1dd1d9781dba",
   "metadata": {},
   "outputs": [],
   "source": [
    "%sql sqlite:///my_data1.db"
   ]
  },
  {
   "cell_type": "code",
   "execution_count": 6,
   "id": "9bd0b4e3-2136-4187-97a2-4be41f5bfb36",
   "metadata": {},
   "outputs": [
    {
     "data": {
      "text/plain": [
       "101"
      ]
     },
     "execution_count": 6,
     "metadata": {},
     "output_type": "execute_result"
    }
   ],
   "source": [
    "import pandas as pd\n",
    "df = pd.read_csv(\"https://cf-courses-data.s3.us.cloud-object-storage.appdomain.cloud/IBM-DS0321EN-SkillsNetwork/labs/module_2/data/Spacex.csv\")\n",
    "df.to_sql(\"SPACEXTBL\", con, if_exists='replace', index=False,method=\"multi\")"
   ]
  },
  {
   "cell_type": "code",
   "execution_count": 7,
   "id": "0bca3cf7-1b4c-44d8-8fc0-e5e369b97a2f",
   "metadata": {},
   "outputs": [
    {
     "name": "stdout",
     "output_type": "stream",
     "text": [
      " * sqlite:///my_data1.db\n",
      "Done.\n"
     ]
    },
    {
     "data": {
      "text/plain": [
       "[]"
      ]
     },
     "execution_count": 7,
     "metadata": {},
     "output_type": "execute_result"
    }
   ],
   "source": [
    "#DROP THE TABLE IF EXISTS\n",
    "\n",
    "%sql DROP TABLE IF EXISTS SPACEXTABLE;"
   ]
  },
  {
   "cell_type": "code",
   "execution_count": 8,
   "id": "0a1e7e12-810d-489e-b3db-dbeea10b3488",
   "metadata": {},
   "outputs": [
    {
     "name": "stdout",
     "output_type": "stream",
     "text": [
      " * sqlite:///my_data1.db\n",
      "Done.\n"
     ]
    },
    {
     "data": {
      "text/plain": [
       "[]"
      ]
     },
     "execution_count": 8,
     "metadata": {},
     "output_type": "execute_result"
    }
   ],
   "source": [
    "%sql create table SPACEXTABLE as select * from SPACEXTBL where Date is not null"
   ]
  },
  {
   "cell_type": "code",
   "execution_count": 13,
   "id": "fd04941d-f6ba-4385-9e80-a3cb09cc82ff",
   "metadata": {},
   "outputs": [
    {
     "name": "stdout",
     "output_type": "stream",
     "text": [
      " * sqlite:///my_data1.db\n",
      "Done.\n",
      "Unique Launch Sites:\n",
      "+--------------+\n",
      "| Launch_Site  |\n",
      "+--------------+\n",
      "| CCAFS LC-40  |\n",
      "| VAFB SLC-4E  |\n",
      "|  KSC LC-39A  |\n",
      "| CCAFS SLC-40 |\n",
      "+--------------+\n"
     ]
    }
   ],
   "source": [
    "# SQL query to fetch unique launch sites\n",
    "query = \"SELECT DISTINCT Launch_Site FROM SPACEXTABLE\"\n",
    "\n",
    "# Execute the query using the %sql magic command\n",
    "result = %sql $query\n",
    "\n",
    "# Display the result\n",
    "print(\"Unique Launch Sites:\")\n",
    "print(result)\n"
   ]
  },
  {
   "cell_type": "code",
   "execution_count": 12,
   "id": "33fec4fb-dc24-4c77-a9b3-fdb0317c2a4d",
   "metadata": {},
   "outputs": [
    {
     "name": "stdout",
     "output_type": "stream",
     "text": [
      " * sqlite:///my_data1.db\n",
      "Done.\n"
     ]
    },
    {
     "data": {
      "text/html": [
       "<table>\n",
       "    <thead>\n",
       "        <tr>\n",
       "            <th>cid</th>\n",
       "            <th>name</th>\n",
       "            <th>type</th>\n",
       "            <th>notnull</th>\n",
       "            <th>dflt_value</th>\n",
       "            <th>pk</th>\n",
       "        </tr>\n",
       "    </thead>\n",
       "    <tbody>\n",
       "        <tr>\n",
       "            <td>0</td>\n",
       "            <td>Date</td>\n",
       "            <td>TEXT</td>\n",
       "            <td>0</td>\n",
       "            <td>None</td>\n",
       "            <td>0</td>\n",
       "        </tr>\n",
       "        <tr>\n",
       "            <td>1</td>\n",
       "            <td>Time (UTC)</td>\n",
       "            <td>TEXT</td>\n",
       "            <td>0</td>\n",
       "            <td>None</td>\n",
       "            <td>0</td>\n",
       "        </tr>\n",
       "        <tr>\n",
       "            <td>2</td>\n",
       "            <td>Booster_Version</td>\n",
       "            <td>TEXT</td>\n",
       "            <td>0</td>\n",
       "            <td>None</td>\n",
       "            <td>0</td>\n",
       "        </tr>\n",
       "        <tr>\n",
       "            <td>3</td>\n",
       "            <td>Launch_Site</td>\n",
       "            <td>TEXT</td>\n",
       "            <td>0</td>\n",
       "            <td>None</td>\n",
       "            <td>0</td>\n",
       "        </tr>\n",
       "        <tr>\n",
       "            <td>4</td>\n",
       "            <td>Payload</td>\n",
       "            <td>TEXT</td>\n",
       "            <td>0</td>\n",
       "            <td>None</td>\n",
       "            <td>0</td>\n",
       "        </tr>\n",
       "        <tr>\n",
       "            <td>5</td>\n",
       "            <td>PAYLOAD_MASS__KG_</td>\n",
       "            <td>INT</td>\n",
       "            <td>0</td>\n",
       "            <td>None</td>\n",
       "            <td>0</td>\n",
       "        </tr>\n",
       "        <tr>\n",
       "            <td>6</td>\n",
       "            <td>Orbit</td>\n",
       "            <td>TEXT</td>\n",
       "            <td>0</td>\n",
       "            <td>None</td>\n",
       "            <td>0</td>\n",
       "        </tr>\n",
       "        <tr>\n",
       "            <td>7</td>\n",
       "            <td>Customer</td>\n",
       "            <td>TEXT</td>\n",
       "            <td>0</td>\n",
       "            <td>None</td>\n",
       "            <td>0</td>\n",
       "        </tr>\n",
       "        <tr>\n",
       "            <td>8</td>\n",
       "            <td>Mission_Outcome</td>\n",
       "            <td>TEXT</td>\n",
       "            <td>0</td>\n",
       "            <td>None</td>\n",
       "            <td>0</td>\n",
       "        </tr>\n",
       "        <tr>\n",
       "            <td>9</td>\n",
       "            <td>Landing_Outcome</td>\n",
       "            <td>TEXT</td>\n",
       "            <td>0</td>\n",
       "            <td>None</td>\n",
       "            <td>0</td>\n",
       "        </tr>\n",
       "    </tbody>\n",
       "</table>"
      ],
      "text/plain": [
       "[(0, 'Date', 'TEXT', 0, None, 0),\n",
       " (1, 'Time (UTC)', 'TEXT', 0, None, 0),\n",
       " (2, 'Booster_Version', 'TEXT', 0, None, 0),\n",
       " (3, 'Launch_Site', 'TEXT', 0, None, 0),\n",
       " (4, 'Payload', 'TEXT', 0, None, 0),\n",
       " (5, 'PAYLOAD_MASS__KG_', 'INT', 0, None, 0),\n",
       " (6, 'Orbit', 'TEXT', 0, None, 0),\n",
       " (7, 'Customer', 'TEXT', 0, None, 0),\n",
       " (8, 'Mission_Outcome', 'TEXT', 0, None, 0),\n",
       " (9, 'Landing_Outcome', 'TEXT', 0, None, 0)]"
      ]
     },
     "execution_count": 12,
     "metadata": {},
     "output_type": "execute_result"
    }
   ],
   "source": [
    "%sql PRAGMA table_info(SPACEXTABLE);\n"
   ]
  },
  {
   "cell_type": "code",
   "execution_count": 14,
   "id": "4acc6d24-3f3f-4a7f-8eda-08771f9f689b",
   "metadata": {},
   "outputs": [
    {
     "name": "stdout",
     "output_type": "stream",
     "text": [
      " * sqlite:///my_data1.db\n",
      "Done.\n",
      "Records where LaunchSite begins with 'CCA':\n",
      "+------------+------------+-----------------+-------------+---------------------------------------------------------------+-------------------+-----------+-----------------+-----------------+---------------------+\n",
      "|    Date    | Time (UTC) | Booster_Version | Launch_Site |                            Payload                            | PAYLOAD_MASS__KG_ |   Orbit   |     Customer    | Mission_Outcome |   Landing_Outcome   |\n",
      "+------------+------------+-----------------+-------------+---------------------------------------------------------------+-------------------+-----------+-----------------+-----------------+---------------------+\n",
      "| 2010-06-04 |  18:45:00  |  F9 v1.0  B0003 | CCAFS LC-40 |              Dragon Spacecraft Qualification Unit             |         0         |    LEO    |      SpaceX     |     Success     | Failure (parachute) |\n",
      "| 2010-12-08 |  15:43:00  |  F9 v1.0  B0004 | CCAFS LC-40 | Dragon demo flight C1, two CubeSats, barrel of Brouere cheese |         0         | LEO (ISS) | NASA (COTS) NRO |     Success     | Failure (parachute) |\n",
      "| 2012-05-22 |  7:44:00   |  F9 v1.0  B0005 | CCAFS LC-40 |                     Dragon demo flight C2                     |        525        | LEO (ISS) |   NASA (COTS)   |     Success     |      No attempt     |\n",
      "| 2012-10-08 |  0:35:00   |  F9 v1.0  B0006 | CCAFS LC-40 |                          SpaceX CRS-1                         |        500        | LEO (ISS) |    NASA (CRS)   |     Success     |      No attempt     |\n",
      "| 2013-03-01 |  15:10:00  |  F9 v1.0  B0007 | CCAFS LC-40 |                          SpaceX CRS-2                         |        677        | LEO (ISS) |    NASA (CRS)   |     Success     |      No attempt     |\n",
      "+------------+------------+-----------------+-------------+---------------------------------------------------------------+-------------------+-----------+-----------------+-----------------+---------------------+\n"
     ]
    }
   ],
   "source": [
    "# SQL query to fetch 5 records where launch sites begin with 'CCA'\n",
    "query = \"SELECT * FROM SPACEXTABLE WHERE Launch_Site LIKE 'CCA%' LIMIT 5\"\n",
    "\n",
    "# Execute the query using the %sql magic command\n",
    "result = %sql $query\n",
    "\n",
    "# Display the result\n",
    "print(\"Records where LaunchSite begins with 'CCA':\")\n",
    "print(result)\n"
   ]
  },
  {
   "cell_type": "code",
   "execution_count": 25,
   "id": "70b78321-41bc-4fa0-a16a-485f04596e20",
   "metadata": {},
   "outputs": [
    {
     "name": "stdout",
     "output_type": "stream",
     "text": [
      " * sqlite:///my_data1.db\n",
      "Done.\n",
      "Total Payload Mass for NASA (CRS) launches:\n",
      "+------------------+\n",
      "| TotalPayloadMass |\n",
      "+------------------+\n",
      "|      48213       |\n",
      "+------------------+\n"
     ]
    }
   ],
   "source": [
    "# SQL query to calculate the total payload mass for NASA (CRS) launches\n",
    "query = \"\"\"\n",
    "SELECT SUM(PAYLOAD_MASS__KG_) AS TotalPayloadMass\n",
    "FROM SPACEXTABLE\n",
    "WHERE Customer LIKE '%NASA (CRS)%'\n",
    "\"\"\"\n",
    "\n",
    "# Execute the query using the %sql magic command\n",
    "result = %sql $query\n",
    "\n",
    "# Display the result\n",
    "print(\"Total Payload Mass for NASA (CRS) launches:\")\n",
    "print(result)\n"
   ]
  },
  {
   "cell_type": "code",
   "execution_count": 26,
   "id": "ba1de11a-7072-4eb7-bdf2-a694d7555d71",
   "metadata": {},
   "outputs": [
    {
     "name": "stdout",
     "output_type": "stream",
     "text": [
      " * sqlite:///my_data1.db\n",
      "Done.\n",
      "Unique Launch Sites:\n"
     ]
    }
   ],
   "source": [
    "# SQL query to fetch unique launch sites\n",
    "query = \"SELECT DISTINCT Customer FROM SPACEXTABLE\"\n",
    "\n",
    "# Execute the query using the %sql magic command\n",
    "result = %sql $query\n",
    "\n",
    "# Display the result\n",
    "print(\"Unique Launch Sites:\")\n",
    "# print(result)\n"
   ]
  },
  {
   "cell_type": "code",
   "execution_count": 27,
   "id": "959c4494-b992-4ea9-9f7b-88a21835b16c",
   "metadata": {},
   "outputs": [
    {
     "name": "stdout",
     "output_type": "stream",
     "text": [
      " * sqlite:///my_data1.db\n",
      "Done.\n",
      "Total Payload Mass for NASA (CRS) launches:\n",
      "+--------------------+\n",
      "|  TotalPayloadMass  |\n",
      "+--------------------+\n",
      "| 2534.6666666666665 |\n",
      "+--------------------+\n"
     ]
    }
   ],
   "source": [
    "# SQL query to calculate the total payload mass for NASA (CRS) launches\n",
    "query = \"\"\"\n",
    "SELECT AVG(PAYLOAD_MASS__KG_) AS TotalPayloadMass\n",
    "FROM SPACEXTABLE\n",
    "WHERE Booster_Version LIKE '%F9 v1.1%'\n",
    "\"\"\"\n",
    "\n",
    "# Execute the query using the %sql magic command\n",
    "result = %sql $query\n",
    "\n",
    "# Display the result\n",
    "print(\"Total Payload Mass for NASA (CRS) launches:\")\n",
    "print(result)\n"
   ]
  },
  {
   "cell_type": "code",
   "execution_count": 29,
   "id": "80c507c4-6488-4fff-91e4-7aec7cff5701",
   "metadata": {},
   "outputs": [
    {
     "name": "stdout",
     "output_type": "stream",
     "text": [
      " * sqlite:///my_data1.db\n",
      "Done.\n",
      "Date of the first successful landing on a ground pad:\n",
      "+----------------------------+\n",
      "| FirstSuccessfulLandingDate |\n",
      "+----------------------------+\n",
      "|         2015-12-22         |\n",
      "+----------------------------+\n"
     ]
    }
   ],
   "source": [
    "# SQL query to find the earliest date of successful ground pad landing\n",
    "query = \"\"\"\n",
    "SELECT MIN(Date) AS FirstSuccessfulLandingDate\n",
    "FROM SPACEXTABLE\n",
    "WHERE Landing_Outcome LIKE '%Success%' AND Landing_Outcome LIKE '%Ground Pad%'\n",
    "\"\"\"\n",
    "\n",
    "# Execute the query using the %sql magic command\n",
    "result = %sql $query\n",
    "\n",
    "# Display the result\n",
    "print(\"Date of the first successful landing on a ground pad:\")\n",
    "print(result)\n"
   ]
  },
  {
   "cell_type": "code",
   "execution_count": 30,
   "id": "05844f10-05a6-4147-96f0-33301c399a7a",
   "metadata": {},
   "outputs": [
    {
     "name": "stdout",
     "output_type": "stream",
     "text": [
      " * sqlite:///my_data1.db\n",
      "Done.\n",
      "Boosters with successful drone ship landings and payload mass between 4000 and 6000:\n",
      "+-----------------+\n",
      "| Booster_Version |\n",
      "+-----------------+\n",
      "|   F9 FT B1022   |\n",
      "|   F9 FT B1026   |\n",
      "|  F9 FT  B1021.2 |\n",
      "|  F9 FT  B1031.2 |\n",
      "+-----------------+\n"
     ]
    }
   ],
   "source": [
    "# SQL query to get booster names with successful drone ship landing and payload mass between 4000 and 6000\n",
    "query = \"\"\"\n",
    "SELECT Booster_Version\n",
    "FROM SPACEXTABLE\n",
    "WHERE Landing_Outcome LIKE '%Success%' \n",
    "  AND Landing_Outcome LIKE '%Drone Ship%'\n",
    "  AND PAYLOAD_MASS__KG_ > 4000\n",
    "  AND PAYLOAD_MASS__KG_ < 6000\n",
    "\"\"\"\n",
    "\n",
    "# Execute the query using the %sql magic command\n",
    "result = %sql $query\n",
    "\n",
    "# Display the result\n",
    "print(\"Boosters with successful drone ship landings and payload mass between 4000 and 6000:\")\n",
    "print(result)\n"
   ]
  },
  {
   "cell_type": "code",
   "execution_count": 33,
   "id": "bc638996-bb41-4f86-a4ce-907ea421134e",
   "metadata": {},
   "outputs": [
    {
     "name": "stdout",
     "output_type": "stream",
     "text": [
      " * sqlite:///my_data1.db\n",
      "Done.\n",
      "Total number of successful and failed mission outcomes:\n",
      "+----------------+---------------+\n",
      "| MissionOutcome | TotalMissions |\n",
      "+----------------+---------------+\n",
      "|     Failed     |       1       |\n",
      "|   Successful   |       98      |\n",
      "|   Successful   |       1       |\n",
      "|   Successful   |       1       |\n",
      "+----------------+---------------+\n"
     ]
    }
   ],
   "source": [
    "# SQL query to count the number of successful and failed missions\n",
    "query = \"\"\"\n",
    "SELECT \n",
    "    CASE \n",
    "        WHEN Mission_Outcome LIKE '%Success%' THEN 'Successful'\n",
    "        WHEN Mission_Outcome LIKE '%Failure%' THEN 'Failed'\n",
    "        ELSE 'Other' \n",
    "    END AS MissionOutcome,\n",
    "    COUNT(*) AS TotalMissions\n",
    "FROM SPACEXTABLE\n",
    "GROUP BY Mission_Outcome\n",
    "\"\"\"\n",
    "\n",
    "# Execute the query using the %sql magic command\n",
    "result = %sql $query\n",
    "\n",
    "# Display the result\n",
    "print(\"Total number of successful and failed mission outcomes:\")\n",
    "print(result)\n"
   ]
  },
  {
   "cell_type": "code",
   "execution_count": 34,
   "id": "3e58df6b-5cf2-4349-8592-32bea352658c",
   "metadata": {},
   "outputs": [
    {
     "name": "stdout",
     "output_type": "stream",
     "text": [
      " * sqlite:///my_data1.db\n",
      "Done.\n",
      "Booster versions with the maximum payload mass:\n",
      "+-----------------+\n",
      "| Booster_Version |\n",
      "+-----------------+\n",
      "|  F9 B5 B1048.4  |\n",
      "|  F9 B5 B1049.4  |\n",
      "|  F9 B5 B1051.3  |\n",
      "|  F9 B5 B1056.4  |\n",
      "|  F9 B5 B1048.5  |\n",
      "|  F9 B5 B1051.4  |\n",
      "|  F9 B5 B1049.5  |\n",
      "|  F9 B5 B1060.2  |\n",
      "|  F9 B5 B1058.3  |\n",
      "|  F9 B5 B1051.6  |\n",
      "|  F9 B5 B1060.3  |\n",
      "|  F9 B5 B1049.7  |\n",
      "+-----------------+\n"
     ]
    }
   ],
   "source": [
    "# SQL query to get the booster versions which carried the maximum payload mass using a subquery\n",
    "query = \"\"\"\n",
    "SELECT Booster_Version\n",
    "FROM SPACEXTABLE\n",
    "WHERE PAYLOAD_MASS__KG_ = (\n",
    "    SELECT MAX(PAYLOAD_MASS__KG_) \n",
    "    FROM SPACEXTABLE\n",
    ")\n",
    "\"\"\"\n",
    "\n",
    "# Execute the query using the %sql magic command\n",
    "result = %sql $query\n",
    "\n",
    "# Display the result\n",
    "print(\"Booster versions with the maximum payload mass:\")\n",
    "print(result)\n"
   ]
  },
  {
   "cell_type": "code",
   "execution_count": 35,
   "id": "0f15c278-9334-4b7d-ac43-ccbe09374d0b",
   "metadata": {},
   "outputs": [
    {
     "name": "stdout",
     "output_type": "stream",
     "text": [
      " * sqlite:///my_data1.db\n",
      "Done.\n",
      "Records for failure landing outcomes in drone ship in 2015:\n",
      "+-----------+----------------------+-----------------+-------------+\n",
      "| MonthName |   Landing_Outcome    | Booster_Version | Launch_Site |\n",
      "+-----------+----------------------+-----------------+-------------+\n",
      "|  January  | Failure (drone ship) |  F9 v1.1 B1012  | CCAFS LC-40 |\n",
      "|   April   | Failure (drone ship) |  F9 v1.1 B1015  | CCAFS LC-40 |\n",
      "+-----------+----------------------+-----------------+-------------+\n"
     ]
    }
   ],
   "source": [
    "# SQL query to retrieve the records for 2015, failure outcomes in drone ship, and other required details\n",
    "query = \"\"\"\n",
    "SELECT \n",
    "    CASE \n",
    "        WHEN substr(Date, 6, 2) = '01' THEN 'January'\n",
    "        WHEN substr(Date, 6, 2) = '02' THEN 'February'\n",
    "        WHEN substr(Date, 6, 2) = '03' THEN 'March'\n",
    "        WHEN substr(Date, 6, 2) = '04' THEN 'April'\n",
    "        WHEN substr(Date, 6, 2) = '05' THEN 'May'\n",
    "        WHEN substr(Date, 6, 2) = '06' THEN 'June'\n",
    "        WHEN substr(Date, 6, 2) = '07' THEN 'July'\n",
    "        WHEN substr(Date, 6, 2) = '08' THEN 'August'\n",
    "        WHEN substr(Date, 6, 2) = '09' THEN 'September'\n",
    "        WHEN substr(Date, 6, 2) = '10' THEN 'October'\n",
    "        WHEN substr(Date, 6, 2) = '11' THEN 'November'\n",
    "        WHEN substr(Date, 6, 2) = '12' THEN 'December'\n",
    "    END AS MonthName,\n",
    "    Landing_Outcome,\n",
    "    Booster_Version,\n",
    "    Launch_Site\n",
    "FROM SPACEXTABLE\n",
    "WHERE substr(Date, 0, 5) = '2015' \n",
    "  AND Landing_Outcome LIKE '%Failure%' \n",
    "  AND Landing_Outcome LIKE '%Drone Ship%'\n",
    "\"\"\"\n",
    "\n",
    "# Execute the query using the %sql magic command\n",
    "result = %sql $query\n",
    "\n",
    "# Display the result\n",
    "print(\"Records for failure landing outcomes in drone ship in 2015:\")\n",
    "print(result)\n"
   ]
  },
  {
   "cell_type": "code",
   "execution_count": 36,
   "id": "f8668f09-6f51-46f7-99fa-af0d1fff91c7",
   "metadata": {},
   "outputs": [
    {
     "name": "stdout",
     "output_type": "stream",
     "text": [
      " * sqlite:///my_data1.db\n",
      "Done.\n",
      "Landing outcomes ranked by count between 2010-06-04 and 2017-03-20:\n",
      "+------------------------+--------------+\n",
      "|    Landing_Outcome     | OutcomeCount |\n",
      "+------------------------+--------------+\n",
      "|       No attempt       |      10      |\n",
      "|  Success (drone ship)  |      5       |\n",
      "|  Failure (drone ship)  |      5       |\n",
      "|  Success (ground pad)  |      3       |\n",
      "|   Controlled (ocean)   |      3       |\n",
      "|  Uncontrolled (ocean)  |      2       |\n",
      "|  Failure (parachute)   |      2       |\n",
      "| Precluded (drone ship) |      1       |\n",
      "+------------------------+--------------+\n"
     ]
    }
   ],
   "source": [
    "# SQL query to rank the count of landing outcomes between the date range\n",
    "query = \"\"\"\n",
    "SELECT Landing_Outcome, COUNT(*) AS OutcomeCount\n",
    "FROM SPACEXTABLE\n",
    "WHERE Date BETWEEN '2010-06-04' AND '2017-03-20'\n",
    "GROUP BY Landing_Outcome\n",
    "ORDER BY OutcomeCount DESC\n",
    "\"\"\"\n",
    "\n",
    "# Execute the query using the %sql magic command\n",
    "result = %sql $query\n",
    "\n",
    "# Display the result\n",
    "print(\"Landing outcomes ranked by count between 2010-06-04 and 2017-03-20:\")\n",
    "print(result)\n"
   ]
  },
  {
   "cell_type": "code",
   "execution_count": null,
   "id": "5101d0a7-ef9d-4043-9e0d-f2b7a6c22479",
   "metadata": {},
   "outputs": [],
   "source": []
  },
  {
   "cell_type": "code",
   "execution_count": null,
   "id": "2649ff1d-e359-476c-bd69-b0b8c1d3cc2f",
   "metadata": {},
   "outputs": [],
   "source": []
  },
  {
   "cell_type": "code",
   "execution_count": null,
   "id": "0cf8e600-058c-44eb-b7d5-972960e4aeee",
   "metadata": {},
   "outputs": [],
   "source": []
  },
  {
   "cell_type": "code",
   "execution_count": null,
   "id": "028ccb3c-480e-4f7c-b8d5-4a36982f06d6",
   "metadata": {},
   "outputs": [],
   "source": []
  },
  {
   "cell_type": "code",
   "execution_count": null,
   "id": "ca56091b-8ef8-42e7-b0bb-547df6b26185",
   "metadata": {},
   "outputs": [],
   "source": []
  },
  {
   "cell_type": "code",
   "execution_count": null,
   "id": "4d3e04e6-2179-4ac0-a582-30f6ac63ae0d",
   "metadata": {},
   "outputs": [],
   "source": []
  },
  {
   "cell_type": "code",
   "execution_count": null,
   "id": "63e332c9-6177-440d-993f-b9e2eddc8d8e",
   "metadata": {},
   "outputs": [],
   "source": []
  },
  {
   "cell_type": "code",
   "execution_count": null,
   "id": "c8306019-636d-4ea7-b287-b79a206f6d29",
   "metadata": {},
   "outputs": [],
   "source": []
  },
  {
   "cell_type": "code",
   "execution_count": null,
   "id": "91c47ba1-a367-4037-8e1d-dfc99700aa06",
   "metadata": {},
   "outputs": [],
   "source": []
  },
  {
   "cell_type": "code",
   "execution_count": null,
   "id": "a379c7f9-2228-4fe1-9b00-e3c9d9358743",
   "metadata": {},
   "outputs": [],
   "source": []
  },
  {
   "cell_type": "code",
   "execution_count": null,
   "id": "00906ca0-4f1f-4d0a-aca4-98ee301bf1f8",
   "metadata": {},
   "outputs": [],
   "source": []
  },
  {
   "cell_type": "code",
   "execution_count": null,
   "id": "a3c4b8c8-8365-45eb-8c82-cc3db65acdaf",
   "metadata": {},
   "outputs": [],
   "source": []
  },
  {
   "cell_type": "code",
   "execution_count": null,
   "id": "c34300a4-0f81-4dc0-9ba9-2c1c386591d7",
   "metadata": {},
   "outputs": [],
   "source": []
  },
  {
   "cell_type": "code",
   "execution_count": null,
   "id": "b226bfe5-cab5-4c1d-b6dc-59b1773ea169",
   "metadata": {},
   "outputs": [],
   "source": []
  },
  {
   "cell_type": "code",
   "execution_count": null,
   "id": "58e24278-3e84-4794-8e7c-1410526be26b",
   "metadata": {},
   "outputs": [],
   "source": []
  },
  {
   "cell_type": "code",
   "execution_count": null,
   "id": "3cae384d-5d73-486f-8301-c68172b0b53a",
   "metadata": {},
   "outputs": [],
   "source": []
  },
  {
   "cell_type": "code",
   "execution_count": null,
   "id": "79a4d5ba-59e9-45e9-b4c7-5348a2bdad23",
   "metadata": {},
   "outputs": [],
   "source": []
  },
  {
   "cell_type": "code",
   "execution_count": null,
   "id": "cd368d91-5ff3-4b08-a244-4640870d2a90",
   "metadata": {},
   "outputs": [],
   "source": []
  },
  {
   "cell_type": "code",
   "execution_count": null,
   "id": "d7355332-4057-4c7f-ad1a-f1a2164386cb",
   "metadata": {},
   "outputs": [],
   "source": []
  },
  {
   "cell_type": "code",
   "execution_count": null,
   "id": "eabf7dc5-170b-4192-b76d-83bddfae6284",
   "metadata": {},
   "outputs": [],
   "source": []
  },
  {
   "cell_type": "code",
   "execution_count": null,
   "id": "126f9965-d759-4b84-a5dc-2b89121f00cd",
   "metadata": {},
   "outputs": [],
   "source": []
  },
  {
   "cell_type": "code",
   "execution_count": null,
   "id": "d9a5b96a-4420-4718-a5ba-d19ed6b58d1d",
   "metadata": {},
   "outputs": [],
   "source": []
  },
  {
   "cell_type": "code",
   "execution_count": null,
   "id": "6281fbfd-aa65-420e-9e15-9448c3ca25f4",
   "metadata": {},
   "outputs": [],
   "source": []
  },
  {
   "cell_type": "code",
   "execution_count": null,
   "id": "7db0a819-6782-40e2-ab10-a15add2835ae",
   "metadata": {},
   "outputs": [],
   "source": []
  },
  {
   "cell_type": "code",
   "execution_count": null,
   "id": "8b7e347e-cf88-467b-b279-457fcb010185",
   "metadata": {},
   "outputs": [],
   "source": []
  },
  {
   "cell_type": "code",
   "execution_count": null,
   "id": "ffd5f617-b5ab-4dac-8290-4ea5f9ff0837",
   "metadata": {},
   "outputs": [],
   "source": []
  },
  {
   "cell_type": "code",
   "execution_count": null,
   "id": "37737e16-4c80-4254-a1c3-a2240efd721d",
   "metadata": {},
   "outputs": [],
   "source": []
  },
  {
   "cell_type": "code",
   "execution_count": null,
   "id": "bb1cbe4d-e886-4be0-b58c-f32f78e3fe49",
   "metadata": {},
   "outputs": [],
   "source": []
  },
  {
   "cell_type": "code",
   "execution_count": null,
   "id": "9a2f40ae-aed8-4790-a1de-4c556adfa30f",
   "metadata": {},
   "outputs": [],
   "source": []
  },
  {
   "cell_type": "code",
   "execution_count": null,
   "id": "0eb59539-f9d9-4ab5-bfe5-91d5c71f1b35",
   "metadata": {},
   "outputs": [],
   "source": []
  },
  {
   "cell_type": "code",
   "execution_count": null,
   "id": "a747e9e4-8a8c-40ca-a6fe-1aa5c7129568",
   "metadata": {},
   "outputs": [],
   "source": []
  },
  {
   "cell_type": "code",
   "execution_count": null,
   "id": "809823bd-990b-4c37-affe-0cb8b6cb9a3b",
   "metadata": {},
   "outputs": [],
   "source": []
  },
  {
   "cell_type": "code",
   "execution_count": null,
   "id": "02c9cacb-8035-4a81-97a4-805c844cd161",
   "metadata": {},
   "outputs": [],
   "source": []
  },
  {
   "cell_type": "code",
   "execution_count": null,
   "id": "7800a939-186b-47f1-bd42-dca6cc78c94a",
   "metadata": {},
   "outputs": [],
   "source": []
  },
  {
   "cell_type": "code",
   "execution_count": null,
   "id": "b35f00e1-918d-43dc-812b-99a32a2cdf84",
   "metadata": {},
   "outputs": [],
   "source": []
  },
  {
   "cell_type": "code",
   "execution_count": null,
   "id": "b460eb0c-2cb5-476a-8d33-679abd2f04c5",
   "metadata": {},
   "outputs": [],
   "source": []
  },
  {
   "cell_type": "code",
   "execution_count": null,
   "id": "760356de-b567-41fc-b776-ccdcc156a9ee",
   "metadata": {},
   "outputs": [],
   "source": []
  },
  {
   "cell_type": "code",
   "execution_count": null,
   "id": "aa230851-5681-4aa7-97f1-64f66a42a896",
   "metadata": {},
   "outputs": [],
   "source": []
  },
  {
   "cell_type": "code",
   "execution_count": null,
   "id": "234cbf82-670c-4310-9177-36557e8a6b92",
   "metadata": {},
   "outputs": [],
   "source": []
  },
  {
   "cell_type": "code",
   "execution_count": null,
   "id": "a62769f7-f9ec-4584-a691-565efc461d13",
   "metadata": {},
   "outputs": [],
   "source": []
  },
  {
   "cell_type": "code",
   "execution_count": null,
   "id": "58bceebd-8b72-4896-8ee1-9633f3aa1af7",
   "metadata": {},
   "outputs": [],
   "source": []
  },
  {
   "cell_type": "code",
   "execution_count": null,
   "id": "3a5ad8a1-22fa-44b2-9932-ebd8dfaafed9",
   "metadata": {},
   "outputs": [],
   "source": []
  },
  {
   "cell_type": "code",
   "execution_count": null,
   "id": "77374882-b779-4f04-8d54-faac59b31592",
   "metadata": {},
   "outputs": [],
   "source": []
  }
 ],
 "metadata": {
  "kernelspec": {
   "display_name": "Python 3 (ipykernel)",
   "language": "python",
   "name": "python3"
  },
  "language_info": {
   "codemirror_mode": {
    "name": "ipython",
    "version": 3
   },
   "file_extension": ".py",
   "mimetype": "text/x-python",
   "name": "python",
   "nbconvert_exporter": "python",
   "pygments_lexer": "ipython3",
   "version": "3.12.6"
  },
  "widgets": {
   "application/vnd.jupyter.widget-state+json": {
    "state": {},
    "version_major": 2,
    "version_minor": 0
   }
  }
 },
 "nbformat": 4,
 "nbformat_minor": 5
}
